{
 "cells": [
  {
   "cell_type": "markdown",
   "metadata": {},
   "source": [
    "## 모듈 import"
   ]
  },
  {
   "cell_type": "code",
   "execution_count": null,
   "metadata": {
    "id": "RGhyFtVF0F0m"
   },
   "outputs": [],
   "source": [
    "from IPython.display import Image\n",
    "import numpy as np\n",
    "import pandas as pd\n",
    "import seaborn as sns"
   ]
  },
  {
   "cell_type": "markdown",
   "metadata": {},
   "source": [
    "## 데이터셋 로드"
   ]
  },
  {
   "cell_type": "code",
   "execution_count": null,
   "metadata": {},
   "outputs": [],
   "source": [
    "df = sns.load_dataset('titanic')\n",
    "df.head()"
   ]
  },
  {
   "cell_type": "markdown",
   "metadata": {},
   "source": [
    "**컬럼(columns) 설명**\n",
    "\n",
    "- survivied: 생존여부 (1: 생존, 0: 사망)\n",
    "- pclass: 좌석 등급 (1등급, 2등급, 3등급)\n",
    "- sex: 성별\n",
    "- age: 나이\n",
    "- sibsp: 형제 + 배우자 수\n",
    "- parch: 부모 + 자녀 수\n",
    "- fare: 좌석 요금\n",
    "- embarked: 탑승 항구 (S, C, Q)\n",
    "- class: pclass와 동일\n",
    "- who: 성별과 동일\n",
    "- adult_male: 성인 남자 여부\n",
    "- deck: 데크 번호 (알파벳 + 숫자 혼용)\n",
    "- embark_town: 탑승 항구 이름\n",
    "- alive: 생존여부 (yes, no)\n",
    "- alone: 혼자 탑승 여부"
   ]
  },
  {
   "cell_type": "markdown",
   "metadata": {
    "id": "-fYx_h0zGvxT"
   },
   "source": [
    "## copy"
   ]
  },
  {
   "cell_type": "markdown",
   "metadata": {},
   "source": [
    "DataFrame을 **복제**합니다. 복제한 DataFrame을 수정해도 **원본에는 영향을 미치지 않습니다.**"
   ]
  },
  {
   "cell_type": "code",
   "execution_count": null,
   "metadata": {
    "colab": {
     "base_uri": "https://localhost:8080/",
     "height": 198
    },
    "id": "Xuz-49kIGvxT",
    "outputId": "6c667add-f011-43bd-c795-e8066e19a760"
   },
   "outputs": [],
   "source": [
    "df.head()"
   ]
  },
  {
   "cell_type": "markdown",
   "metadata": {},
   "source": [
    "`copy()`로 DataFrame을 복제합니다."
   ]
  },
  {
   "cell_type": "code",
   "execution_count": null,
   "metadata": {
    "id": "h0wq_ltpGvxV"
   },
   "outputs": [],
   "source": [
    "df_copy = df.copy()"
   ]
  },
  {
   "cell_type": "markdown",
   "metadata": {},
   "source": [
    "id 값을 확인하면 두 DataFrame의 **메모리 주소가 다름**을 확인할 수 있습니다."
   ]
  },
  {
   "cell_type": "code",
   "execution_count": null,
   "metadata": {
    "colab": {
     "base_uri": "https://localhost:8080/",
     "height": 35
    },
    "id": "POzIxfmm0F3O",
    "outputId": "44f8c9df-cf92-435c-c3d4-5612bbd14da5"
   },
   "outputs": [],
   "source": [
    "id(df), id(df_copy)"
   ]
  },
  {
   "cell_type": "code",
   "execution_count": null,
   "metadata": {
    "colab": {
     "base_uri": "https://localhost:8080/",
     "height": 198
    },
    "id": "TqvKUj2qGvxW",
    "outputId": "a005fe6b-ace7-44ac-8ae5-6175a04dd068"
   },
   "outputs": [],
   "source": [
    "df_copy.head()"
   ]
  },
  {
   "cell_type": "markdown",
   "metadata": {},
   "source": [
    "`df_copy`의 `age`를 99999로 임의 수정하도록 하겠습니다."
   ]
  },
  {
   "cell_type": "code",
   "execution_count": null,
   "metadata": {
    "id": "DmBm0nSJGvxa"
   },
   "outputs": [],
   "source": [
    "df_copy.loc[0, 'age'] = 99999"
   ]
  },
  {
   "cell_type": "markdown",
   "metadata": {},
   "source": [
    "수정사항이 반영된 것을 확인할 수 있습니다."
   ]
  },
  {
   "cell_type": "code",
   "execution_count": null,
   "metadata": {
    "colab": {
     "base_uri": "https://localhost:8080/",
     "height": 198
    },
    "id": "2Zv6Xb_GGvxc",
    "outputId": "2f22c777-b7b2-4343-aa0b-bac65b993986"
   },
   "outputs": [],
   "source": [
    "df_copy.head()"
   ]
  },
  {
   "cell_type": "markdown",
   "metadata": {},
   "source": [
    "하지만, 원본 DataFrame의 **데이터는 변경되지 않고 그대로 남아** 있습니다."
   ]
  },
  {
   "cell_type": "code",
   "execution_count": null,
   "metadata": {
    "colab": {
     "base_uri": "https://localhost:8080/",
     "height": 198
    },
    "id": "ci3vIO0SGvxf",
    "outputId": "ebe03104-c06a-463e-9799-66c2f0955a70"
   },
   "outputs": [],
   "source": [
    "df.head()"
   ]
  },
  {
   "cell_type": "markdown",
   "metadata": {},
   "source": [
    "# 결측치"
   ]
  },
  {
   "cell_type": "markdown",
   "metadata": {},
   "source": [
    "결측치는 **비어있는 데이터**를 의미합니다.\n",
    "\n",
    "결측치에 대한 처리는 매우 중요합니다. \n",
    "\n",
    "결측치에 대한 처리를 해주려면 **다음의 내용**을 반드시 알아야 합니다.\n",
    "\n",
    "1. 결측 데이터 확인\n",
    "2. 결측치가 **아닌** 데이터 확인\n",
    "3. 결측 데이터 **채우기**\n",
    "4. 결측 데이터 **제거하기**"
   ]
  },
  {
   "cell_type": "markdown",
   "metadata": {
    "id": "ESi8is8YGvxh"
   },
   "source": [
    "## 결측치 확인 - isnull(), isnan()"
   ]
  },
  {
   "cell_type": "markdown",
   "metadata": {},
   "source": [
    "컬럼(column)별 결측치의 갯수를 확인하기 위해서는 `sum()` 함수를 붙혀주면 됩니다.\n",
    "\n",
    "`sum()`은 Pandas의 통계 관련 함수이며, 통계 관련 함수는 추후에 더 자세히 알아볼 예정입니다."
   ]
  },
  {
   "cell_type": "markdown",
   "metadata": {},
   "source": [
    "**isnull()**"
   ]
  },
  {
   "cell_type": "code",
   "execution_count": null,
   "metadata": {
    "colab": {
     "base_uri": "https://localhost:8080/",
     "height": 163
    },
    "id": "d3zmrp1jGvxi",
    "outputId": "1ea7aada-77ad-4b55-d46a-39602ad53c39"
   },
   "outputs": [],
   "source": [
    "df.isnull().sum()"
   ]
  },
  {
   "cell_type": "markdown",
   "metadata": {},
   "source": [
    "**isna()**"
   ]
  },
  {
   "cell_type": "markdown",
   "metadata": {
    "id": "paVPqQACGvxj"
   },
   "source": [
    "isnull() 과 동작이 완전 같습니다. 편한 것으로 써주세요. (심지어 도큐먼트도 같습니다)"
   ]
  },
  {
   "cell_type": "code",
   "execution_count": null,
   "metadata": {
    "colab": {
     "base_uri": "https://localhost:8080/",
     "height": 163
    },
    "id": "SzayMYwcGvxj",
    "outputId": "3852d811-c04f-4feb-9dcb-36ada90104fc"
   },
   "outputs": [],
   "source": [
    "df.isna().sum()"
   ]
  },
  {
   "cell_type": "markdown",
   "metadata": {},
   "source": [
    "DataFrame 전체 결측 데이터의 갯수를 합산하기 위해서는 `sum()`을 두 번 사용하면 됩니다."
   ]
  },
  {
   "cell_type": "code",
   "execution_count": null,
   "metadata": {
    "colab": {
     "base_uri": "https://localhost:8080/",
     "height": 35
    },
    "id": "fRay_bw0Gvxl",
    "outputId": "e44d4c15-9548-4a09-b392-63c82a9fcc85"
   },
   "outputs": [],
   "source": [
    "df.isnull().sum().sum()"
   ]
  },
  {
   "cell_type": "markdown",
   "metadata": {},
   "source": [
    "## 결측치가 아닌 데이터 확인 - notnull()"
   ]
  },
  {
   "cell_type": "markdown",
   "metadata": {},
   "source": [
    "`notnull()`은 `isnull()`과 정확히 **반대** 개념입니다."
   ]
  },
  {
   "cell_type": "code",
   "execution_count": null,
   "metadata": {},
   "outputs": [],
   "source": [
    "df.notnull().sum()"
   ]
  },
  {
   "cell_type": "markdown",
   "metadata": {},
   "source": [
    "## 결측 데이터 필터링"
   ]
  },
  {
   "cell_type": "markdown",
   "metadata": {},
   "source": [
    "`isnull()` 함수가 결측 데이터를 찾는 **boolean index** 입니다.\n",
    "\n",
    "즉, `loc`에 적용하여 조건 필터링을 걸 수 있습니다."
   ]
  },
  {
   "cell_type": "code",
   "execution_count": null,
   "metadata": {
    "colab": {
     "base_uri": "https://localhost:8080/",
     "height": 78
    },
    "id": "Ja0TVTl4Gvxo",
    "outputId": "33ed83b3-5b0e-4734-98c7-4fb45df60cab"
   },
   "outputs": [],
   "source": [
    "df.loc[df['age'].isnull()]"
   ]
  },
  {
   "cell_type": "markdown",
   "metadata": {},
   "source": [
    "## 연습문제"
   ]
  },
  {
   "cell_type": "markdown",
   "metadata": {},
   "source": [
    "타이타닉 승객 데이터에서 `age`가 결측치인 승객의 나이를 **30세**로 일괄 채워 주세요"
   ]
  },
  {
   "cell_type": "code",
   "execution_count": null,
   "metadata": {},
   "outputs": [],
   "source": [
    "# 코드를 입력해 주세요\n"
   ]
  },
  {
   "cell_type": "code",
   "execution_count": null,
   "metadata": {},
   "outputs": [],
   "source": [
    "# 검증코드\n",
    "# 본 Cell을 실행시 ERROR가 발생하지 않아야 함\n",
    "assert df['age'].isnull().sum() == 0\n",
    "assert df['age'].mean().round(4) == 29.7589"
   ]
  },
  {
   "cell_type": "markdown",
   "metadata": {
    "id": "GJBAIy01Gvxq"
   },
   "source": [
    "## 결측치 채우기 - fillna()"
   ]
  },
  {
   "cell_type": "markdown",
   "metadata": {},
   "source": [
    "`fillna()`를 활용하면 결측치에 대하여 **일괄적으로 값을 채울 수** 있습니다."
   ]
  },
  {
   "cell_type": "code",
   "execution_count": null,
   "metadata": {},
   "outputs": [],
   "source": [
    "# 다시 원본 DataFrame 로드\n",
    "df = sns.load_dataset('titanic')"
   ]
  },
  {
   "cell_type": "code",
   "execution_count": null,
   "metadata": {
    "id": "4t4SbU5vGvxq"
   },
   "outputs": [],
   "source": [
    "# 원본을 copy하여 df1 변수에 \n",
    "df1 = df.copy()"
   ]
  },
  {
   "cell_type": "code",
   "execution_count": null,
   "metadata": {
    "colab": {
     "base_uri": "https://localhost:8080/",
     "height": 198
    },
    "id": "k07FVDQsGvxr",
    "outputId": "ebba0be1-7a3a-4ad9-d7d9-ab5c4be78d5f"
   },
   "outputs": [],
   "source": [
    "df1.tail()"
   ]
  },
  {
   "cell_type": "markdown",
   "metadata": {},
   "source": [
    "888번 index의 **결측치가 700으로 채워**진 것을 확인할 수 있습니다."
   ]
  },
  {
   "cell_type": "code",
   "execution_count": null,
   "metadata": {
    "colab": {
     "base_uri": "https://localhost:8080/",
     "height": 126
    },
    "id": "zguu1S_GGvxt",
    "outputId": "f739efba-5135-4189-bf18-44abe56d5e27"
   },
   "outputs": [],
   "source": [
    "df1['age'].fillna(700).tail()"
   ]
  },
  {
   "cell_type": "code",
   "execution_count": null,
   "metadata": {
    "id": "fHLa54fkGvxv"
   },
   "outputs": [],
   "source": [
    "df1['age'] = df1['age'].fillna(700)"
   ]
  },
  {
   "cell_type": "code",
   "execution_count": null,
   "metadata": {},
   "outputs": [],
   "source": [
    "df1.tail()"
   ]
  },
  {
   "cell_type": "markdown",
   "metadata": {},
   "source": [
    "**카테고리 형 데이터**을 채워주기 위해서는 다음과 같은 과정을 거쳐야 합니다."
   ]
  },
  {
   "cell_type": "markdown",
   "metadata": {},
   "source": [
    "이미 카테고리가 추가된 'A'나 'B'는 바로 fillna() 할 수 있습니다."
   ]
  },
  {
   "cell_type": "code",
   "execution_count": null,
   "metadata": {},
   "outputs": [],
   "source": [
    "df1['deck'].fillna('A')"
   ]
  },
  {
   "cell_type": "markdown",
   "metadata": {},
   "source": [
    "하지만, 없는 카테고리로 채워주고자 할 때는 먼저 `add_categories`로 카테고리를 추가한 후 채워야 합니다."
   ]
  },
  {
   "cell_type": "code",
   "execution_count": null,
   "metadata": {},
   "outputs": [],
   "source": [
    "# add_categories (카테고리 추가)\n",
    "# cat은 category의 지정자\n",
    "df1['deck'].cat.add_categories('No Data').fillna('No Data')"
   ]
  },
  {
   "cell_type": "markdown",
   "metadata": {
    "id": "-nRHlVZnGvxy"
   },
   "source": [
    "## 통계값으로 채우기"
   ]
  },
  {
   "cell_type": "code",
   "execution_count": null,
   "metadata": {
    "id": "VDCg6PEiGvxy"
   },
   "outputs": [],
   "source": [
    "df1 = df.copy()"
   ]
  },
  {
   "cell_type": "code",
   "execution_count": null,
   "metadata": {},
   "outputs": [],
   "source": [
    "df1.tail()"
   ]
  },
  {
   "cell_type": "markdown",
   "metadata": {},
   "source": [
    "### 평균으로 채우기"
   ]
  },
  {
   "cell_type": "code",
   "execution_count": null,
   "metadata": {
    "colab": {
     "base_uri": "https://localhost:8080/",
     "height": 235
    },
    "id": "4qbCsucrGvx1",
    "outputId": "c965ce10-c6c2-47e5-9f7f-ca6a259e3628"
   },
   "outputs": [],
   "source": [
    "df1['age'].fillna(df1['age'].mean()).tail()"
   ]
  },
  {
   "cell_type": "markdown",
   "metadata": {},
   "source": [
    "### 중앙값으로 채우기"
   ]
  },
  {
   "cell_type": "code",
   "execution_count": null,
   "metadata": {
    "id": "B-m2H4yaGvx3"
   },
   "outputs": [],
   "source": [
    "df1['age'].fillna(df1['age'].median()).tail()"
   ]
  },
  {
   "cell_type": "markdown",
   "metadata": {},
   "source": [
    "## 연습문제\n",
    "\n",
    "- 남자 승객의 나이의 **결측치**는, **남자 승객의 나이의 평균**으로 채웁니다.\n",
    "- 여자 승객의 나이의 **결측치**는, **여자 승객의 나이의 평균**으로 채웁니다.\n",
    "- 결측치를 모두 채운 후 age 컬럼의 평균을 출력합니다.(검증코드 실행하여 올바른 값이 출력 되는지 확인)"
   ]
  },
  {
   "cell_type": "code",
   "execution_count": null,
   "metadata": {},
   "outputs": [],
   "source": [
    "# 코드를 입력해 주세요\n"
   ]
  },
  {
   "cell_type": "code",
   "execution_count": null,
   "metadata": {},
   "outputs": [],
   "source": [
    "# 검증코드\n",
    "# Cell 실행시 오류가 발생하지 않으면 PASS\n",
    "assert (df1['age'].isnull().sum() == 0)\n",
    "df1['age'].mean()"
   ]
  },
  {
   "cell_type": "markdown",
   "metadata": {},
   "source": [
    "<p><strong>[출력 결과]</strong></p><pre>29.736034227171306</pre>"
   ]
  },
  {
   "cell_type": "markdown",
   "metadata": {},
   "source": [
    "### 최빈값으로 채우기"
   ]
  },
  {
   "cell_type": "code",
   "execution_count": null,
   "metadata": {},
   "outputs": [],
   "source": [
    "df1['deck'].mode()"
   ]
  },
  {
   "cell_type": "markdown",
   "metadata": {},
   "source": [
    "**최빈값(mode)**으로 채울 때에는 반드시 **0번째 index 지정**하여 값을 추출한 후 채워야 합니다."
   ]
  },
  {
   "cell_type": "code",
   "execution_count": null,
   "metadata": {},
   "outputs": [],
   "source": [
    "df1['deck'].mode()[0]"
   ]
  },
  {
   "cell_type": "code",
   "execution_count": null,
   "metadata": {
    "colab": {
     "base_uri": "https://localhost:8080/",
     "height": 198
    },
    "id": "323op2NZGvx4",
    "outputId": "bc02cc03-0e1f-43a3-e619-7969fd5e228c"
   },
   "outputs": [],
   "source": [
    "df1['deck'].fillna(df1['deck'].mode()[0]).tail()"
   ]
  },
  {
   "cell_type": "markdown",
   "metadata": {
    "id": "oxJPuzIAGvx6"
   },
   "source": [
    "## NaN 값이 있는 데이터 제거하기 (dropna)"
   ]
  },
  {
   "cell_type": "code",
   "execution_count": null,
   "metadata": {
    "id": "JBwCjiIoGvx7"
   },
   "outputs": [],
   "source": [
    "df1 = df.copy()"
   ]
  },
  {
   "cell_type": "code",
   "execution_count": null,
   "metadata": {
    "colab": {
     "base_uri": "https://localhost:8080/",
     "height": 198
    },
    "id": "9eZJpkY9Gvx8",
    "outputId": "e4f72b33-0350-4d0d-827e-f5d6030f56e8"
   },
   "outputs": [],
   "source": [
    "df1.tail()"
   ]
  },
  {
   "cell_type": "markdown",
   "metadata": {},
   "source": [
    "`dropna()`로 **1개 라도 NaN 값이 있는 행**은 제거할 수 있스빈다. (`how='any'`)"
   ]
  },
  {
   "cell_type": "code",
   "execution_count": null,
   "metadata": {},
   "outputs": [],
   "source": [
    "df1.dropna()"
   ]
  },
  {
   "cell_type": "markdown",
   "metadata": {
    "id": "KwhXR1dRGvx-"
   },
   "source": [
    "기본 옵션 값은 `how=any`로 설정되어 있으며, 다음과 같이 변경할 수 있습니다.\n",
    "\n",
    "- **any**: 1개 라도 NaN값이 존재시 drop\n",
    "- **all**: 모두 NaN값이 존재시 drop"
   ]
  },
  {
   "cell_type": "code",
   "execution_count": null,
   "metadata": {
    "colab": {
     "base_uri": "https://localhost:8080/",
     "height": 407
    },
    "id": "4LmCs-csGvx_",
    "outputId": "03e659f9-ab9d-4fec-9dcf-4e0730c291be"
   },
   "outputs": [],
   "source": [
    "df1.dropna(how='all')"
   ]
  }
 ],
 "metadata": {
  "colab": {
   "collapsed_sections": [],
   "name": "05-pandas-복제-결측치 (실습)",
   "provenance": []
  },
  "kernelspec": {
   "display_name": "Python 3 (ipykernel)",
   "language": "python",
   "name": "python3"
  },
  "language_info": {
   "codemirror_mode": {
    "name": "ipython",
    "version": 3
   },
   "file_extension": ".py",
   "mimetype": "text/x-python",
   "name": "python",
   "nbconvert_exporter": "python",
   "pygments_lexer": "ipython3",
   "version": "3.11.5"
  }
 },
 "nbformat": 4,
 "nbformat_minor": 4
}
